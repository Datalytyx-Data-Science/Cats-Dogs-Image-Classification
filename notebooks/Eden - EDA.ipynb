{
 "cells": [
  {
   "cell_type": "markdown",
   "metadata": {},
   "source": [
    "# Cats Vs. Dogs\n",
    "### Eden Trainor\n"
   ]
  },
  {
   "cell_type": "markdown",
   "metadata": {},
   "source": [
    "#### Imports\n"
   ]
  },
  {
   "cell_type": "code",
   "execution_count": 1,
   "metadata": {},
   "outputs": [
    {
     "name": "stderr",
     "output_type": "stream",
     "text": [
      "C:\\Users\\EdenTrainor\\Anaconda3\\lib\\site-packages\\h5py\\__init__.py:36: FutureWarning: Conversion of the second argument of issubdtype from `float` to `np.floating` is deprecated. In future, it will be treated as `np.float64 == np.dtype(float).type`.\n",
      "  from ._conv import register_converters as _register_converters\n"
     ]
    }
   ],
   "source": [
    "import numpy as np\n",
    "import pandas as pd\n",
    "import tensorflow as tf\n",
    "import sklearn as skl\n",
    "\n",
    "#making things pretty\n",
    "import matplotlib.pyplot as plt\n",
    "import seaborn as sns\n",
    "import cv2 #Image resizing\n",
    "import os\n",
    "from tqdm import tqdm\n",
    "\n",
    "from sklearn.utils import shuffle as mutual_shuffle\n",
    "from sklearn.model_selection import train_test_split\n",
    "\n"
   ]
  },
  {
   "cell_type": "code",
   "execution_count": 2,
   "metadata": {},
   "outputs": [
    {
     "name": "stdout",
     "output_type": "stream",
     "text": [
      "Pretty printing has been turned OFF\n"
     ]
    }
   ],
   "source": [
    "%pprint"
   ]
  },
  {
   "cell_type": "markdown",
   "metadata": {},
   "source": [
    "#### Load Data"
   ]
  },
  {
   "cell_type": "markdown",
   "metadata": {},
   "source": [
    "Global Variable setting:\n"
   ]
  },
  {
   "cell_type": "code",
   "execution_count": 3,
   "metadata": {},
   "outputs": [],
   "source": [
    "USER_NAME = 'EdenTrainor' #Configure this with your username\n",
    "DATA_REPO = 'C:/Users/{}/Datalytyx/Delivery - Documents/Data Science/Data/'.format(USER_NAME)\n",
    "\n",
    "#Path of actual image JPGs\n",
    "TRAIN_IMAGES_FOLDER = '{}Cat_VS_Dog/all/train_images/'.format(DATA_REPO)\n",
    "TEST_IMAGES_FOLDER = '{}Cat_VS_Dog/all/test_images/'.format(DATA_REPO)\n",
    "\n",
    "#Path of images as resized arrays\n",
    "TRAIN_ARRAYS_FOLDER = '{}Cat_VS_Dog/all/train_arrays/'.format(DATA_REPO)\n",
    "TEST_ARRAYS_FOLDER = '{}Cat_VS_Dog/all/test_arrays/'.format(DATA_REPO)\n",
    "\n",
    "\n",
    "#Images will be resized to a square of size:\n",
    "IMAGE_SIZE = 64\n",
    "EVAL_SPLIT_SIZE = 5000\n",
    "\n",
    "\n"
   ]
  },
  {
   "cell_type": "markdown",
   "metadata": {},
   "source": [
    "Create function to parse images into list of arrays and extract labels from image names"
   ]
  },
  {
   "cell_type": "code",
   "execution_count": 4,
   "metadata": {},
   "outputs": [],
   "source": [
    "#Function to parse labels from image files\n",
    "\n",
    "def label_parser(img_path):\n",
    "    #get label from image name: e.g. dog.93.jpg\n",
    "    word_label = img_path.split('.')[0]\n",
    "    \n",
    "    \n",
    "    #One Hot the labels\n",
    "    if word_label == 'dog': \n",
    "        return [1, 0]\n",
    "    \n",
    "    elif word_label == 'cat': \n",
    "        return [0, 1]\n",
    "    \n",
    "    # Deal with exceptions but don't stop process.\n",
    "    else: \n",
    "        print('Unable to parse label for {}'.format(img_path))\n",
    "\n",
    "        \n",
    "        \n",
    "def create_train_data():\n",
    "    train_images = []\n",
    "    train_labels = []\n",
    "    \n",
    "    for img in tqdm(os.listdir(TRAIN_IMAGES_FOLDER)):\n",
    "        \n",
    "        #Label the image\n",
    "        label = label_parser(img)\n",
    "        \n",
    "        \n",
    "        path = os.path.join(TRAIN_IMAGES_FOLDER, img)\n",
    "        \n",
    "        img = cv2.imread(path)\n",
    "        \n",
    "        img = cv2.resize(img, (IMAGE_SIZE, IMAGE_SIZE))\n",
    "        \n",
    "        train_images.append(img)\n",
    "        train_labels.append(label)\n",
    "    \n",
    "    #Stack images\n",
    "    train_images = np.stack(train_images, axis = 0)\n",
    "    train_labels = np.stack(train_labels, axis = 0)    \n",
    "   \n",
    "    np.save('{}train_images-{}.npy'.format(TRAIN_ARRAYS_FOLDER, IMAGE_SIZE), train_images)\n",
    "    np.save('{}train_labels-{}.npy'.format(TRAIN_ARRAYS_FOLDER, IMAGE_SIZE), train_labels)\n",
    "    \n",
    "    return train_images, train_labels\n",
    "        \n",
    "    "
   ]
  },
  {
   "cell_type": "code",
   "execution_count": 5,
   "metadata": {},
   "outputs": [
    {
     "name": "stderr",
     "output_type": "stream",
     "text": [
      "100%|███████████████████████████████████████████████████████████████████████████| 25000/25000 [00:57<00:00, 434.68it/s]\n"
     ]
    }
   ],
   "source": [
    "train_images, train_labels = create_train_data()"
   ]
  },
  {
   "cell_type": "markdown",
   "metadata": {},
   "source": [
    "Do the same for test data. But just export to array."
   ]
  },
  {
   "cell_type": "code",
   "execution_count": 6,
   "metadata": {},
   "outputs": [],
   "source": [
    "def process_test_data():\n",
    "    test_data = []\n",
    "    \n",
    "    for img in tqdm(os.listdir(TEST_IMAGES_FOLDER)):\n",
    "        \n",
    "        path = os.path.join(TEST_IMAGES_FOLDER, img)\n",
    "        \n",
    "        img_num = img.split('.')[0]\n",
    "        \n",
    "        img = cv2.imread(path)\n",
    "        \n",
    "        img = cv2.resize(img, (IMAGE_SIZE, IMAGE_SIZE))\n",
    "        \n",
    "        test_data.append([img, img_num])\n",
    "    \n",
    "    test_data = np.stack(test_data, axis = 0)\n",
    "        \n",
    "    np.save('{}test_images-{}.npy'.format(TEST_ARRAYS_FOLDER, IMAGE_SIZE), test_data)"
   ]
  },
  {
   "cell_type": "code",
   "execution_count": 7,
   "metadata": {},
   "outputs": [
    {
     "name": "stderr",
     "output_type": "stream",
     "text": [
      "100%|███████████████████████████████████████████████████████████████████████████| 12500/12500 [00:31<00:00, 401.73it/s]\n"
     ]
    }
   ],
   "source": [
    "process_test_data()"
   ]
  },
  {
   "cell_type": "markdown",
   "metadata": {},
   "source": [
    "Split data into train/eval features/labels and shuffle the data."
   ]
  },
  {
   "cell_type": "code",
   "execution_count": 8,
   "metadata": {},
   "outputs": [],
   "source": [
    "train_X, eval_X, train_y, eval_y = train_test_split(train_images, train_labels,\n",
    "                                                    random_state = 0,\n",
    "                                                    test_size = 0.2)"
   ]
  },
  {
   "cell_type": "markdown",
   "metadata": {},
   "source": [
    "### Experimental Data Analysis"
   ]
  },
  {
   "cell_type": "markdown",
   "metadata": {},
   "source": [
    "Look at the distribution of target classes in dataset"
   ]
  },
  {
   "cell_type": "code",
   "execution_count": 20,
   "metadata": {},
   "outputs": [
    {
     "name": "stdout",
     "output_type": "stream",
     "text": [
      "Number of dogs in training set 9996, number of cats in training set 10004\n"
     ]
    }
   ],
   "source": [
    "print('Number of dogs in training set {}, number of cats in training set {}'.format(train_y[:,0].sum(), train_y[:,1].sum()))"
   ]
  },
  {
   "cell_type": "code",
   "execution_count": 21,
   "metadata": {},
   "outputs": [
    {
     "name": "stdout",
     "output_type": "stream",
     "text": [
      "Number of dogs in evaluation set 2504, number of cats in evaluation set 2496\n"
     ]
    }
   ],
   "source": [
    "print('Number of dogs in evaluation set {}, number of cats in evaluation set {}'.format(eval_y[:,0].sum(), eval_y[:,1].sum()))"
   ]
  },
  {
   "cell_type": "markdown",
   "metadata": {},
   "source": [
    "#### Edge Detection Filters"
   ]
  },
  {
   "cell_type": "code",
   "execution_count": 22,
   "metadata": {},
   "outputs": [],
   "source": [
    "from skimage.filters import roberts, sobel, scharr, prewitt\n",
    "from skimage import feature"
   ]
  },
  {
   "cell_type": "markdown",
   "metadata": {},
   "source": [
    "Look at image through 4 edge detection filters, filters work on grayscale images."
   ]
  },
  {
   "cell_type": "code",
   "execution_count": 46,
   "metadata": {},
   "outputs": [],
   "source": [
    "test_img = train_X[0]\n",
    "test_img = cv2.cvtColor(test_img, cv2.COLOR_RGB2GRAY)"
   ]
  },
  {
   "cell_type": "code",
   "execution_count": 47,
   "metadata": {},
   "outputs": [
    {
     "data": {
      "image/png": "[encoded data removed]",
      "text/plain": [
       "<Figure size 1512x756 with 5 Axes>"
      ]
     },
     "metadata": {},
     "output_type": "display_data"
    }
   ],
   "source": [
    "edge_canny = feature.canny(test_image)\n",
    "edge_roberts = roberts(test_img)\n",
    "edge_sobel = sobel(test_img)\n",
    "edge_prewitt = prewitt(test_img)\n",
    "\n",
    "fig, ax = plt.subplots(ncols=5, sharex=True, sharey=True, figsize=(21, 10.5))\n",
    "\n",
    "ax[0].imshow(test_img, cmap=plt.cm.gray)\n",
    "ax[0].set_title('Test Image', color = 'w')\n",
    "\n",
    "ax[1].imshow(edge_sobel, cmap=plt.cm.gray)\n",
    "ax[1].set_title('Sobel Edge Detection')\n",
    "\n",
    "ax[2].imshow(edge_prewitt, cmap=plt.cm.gray)\n",
    "ax[2].set_title('Prewitt Filter')\n",
    "\n",
    "ax[3].imshow(edge_canny, cmap=plt.cm.gray)\n",
    "ax[3].set_title('Canny Filter')\n",
    "\n",
    "ax[4].imshow(edge_roberts, cmap=plt.cm.gray)\n",
    "ax[4].set_title('Roberts Edge Detection')\n",
    "\n",
    "for a in ax:\n",
    "    a.axis('off')"
   ]
  },
  {
   "cell_type": "code",
   "execution_count": null,
   "metadata": {},
   "outputs": [],
   "source": []
  }
 ],
 "metadata": {
  "kernelspec": {
   "display_name": "Python 3",
   "language": "python",
   "name": "python3"
  },
  "language_info": {
   "codemirror_mode": {
    "name": "ipython",
    "version": 3
   },
   "file_extension": ".py",
   "mimetype": "text/x-python",
   "name": "python",
   "nbconvert_exporter": "python",
   "pygments_lexer": "ipython3",
   "version": "3.6.5"
  }
 },
 "nbformat": 4,
 "nbformat_minor": 2
}
