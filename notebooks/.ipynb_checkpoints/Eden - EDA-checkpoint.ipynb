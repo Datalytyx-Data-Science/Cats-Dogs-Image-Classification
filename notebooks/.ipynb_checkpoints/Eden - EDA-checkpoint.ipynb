{
 "cells": [
  {
   "cell_type": "markdown",
   "metadata": {},
   "source": [
    "# Cats Vs. Dogs\n",
    "### Eden Trainor\n"
   ]
  },
  {
   "cell_type": "markdown",
   "metadata": {},
   "source": [
    "#### Imports\n"
   ]
  },
  {
   "cell_type": "code",
   "execution_count": 57,
   "metadata": {},
   "outputs": [],
   "source": [
    "import numpy as np\n",
    "import pandas as pd\n",
    "import tensorflow as tf\n",
    "import sklearn as skl\n",
    "\n",
    "#making things pretty\n",
    "import matplotlib.pyplot as plt\n",
    "import seaborn as sns\n",
    "import cv2 #Image resizing\n",
    "import os\n",
    "from tqdm import tqdm\n",
    "\n",
    "from sklearn.utils import shuffle as mutual_shuffle\n",
    "from sklearn.model_selection import train_test_split\n",
    "\n"
   ]
  },
  {
   "cell_type": "code",
   "execution_count": 58,
   "metadata": {},
   "outputs": [
    {
     "name": "stdout",
     "output_type": "stream",
     "text": [
      "Pretty printing has been turned ON\n"
     ]
    }
   ],
   "source": [
    "%pprint"
   ]
  },
  {
   "cell_type": "markdown",
   "metadata": {},
   "source": [
    "#### Load Data"
   ]
  },
  {
   "cell_type": "markdown",
   "metadata": {},
   "source": [
    "Global Variable setting:\n"
   ]
  },
  {
   "cell_type": "code",
   "execution_count": 30,
   "metadata": {},
   "outputs": [],
   "source": [
    "USER_NAME = 'EdenTrainor' #Configure this with your username\n",
    "DATA_REPO = 'C:/Users/{}/Datalytyx/Delivery - Documents/Data Science/Data/'.format(USER_NAME)\n",
    "\n",
    "#Path of actual image JPGs\n",
    "TRAIN_IMAGES_FOLDER = '{}Cat_VS_Dog/all/train_images/'.format(DATA_REPO)\n",
    "TEST_IMAGES_FOLDER = '{}Cat_VS_Dog/all/test_images/'.format(DATA_REPO)\n",
    "\n",
    "#Path of images as resized arrays\n",
    "TRAIN_ARRAYS_FOLDER = '{}Cat_VS_Dog/all/train_arrays/'.format(DATA_REPO)\n",
    "TEST_ARRAYS_FOLDER = '{}Cat_VS_Dog/all/test_arrays/'.format(DATA_REPO)\n",
    "\n",
    "\n",
    "#Images will be resized to a square of size:\n",
    "IMAGE_SIZE = 50\n",
    "\n",
    "LEARNING_RATE = 1e-3\n",
    "BATCH_SIZE = 64\n",
    "EVAL_SPLIT_SIZE = 5000\n",
    "\n",
    "MODEL_NAME = 'dogsVsCats-{}-{}.model'.format(LEARNING_RATE, '2conv-basic')\n"
   ]
  },
  {
   "cell_type": "markdown",
   "metadata": {},
   "source": [
    "Create function to parse images into list of arrays and extract labels from image names"
   ]
  },
  {
   "cell_type": "code",
   "execution_count": 64,
   "metadata": {},
   "outputs": [],
   "source": [
    "#Function to parse labels from image files\n",
    "\n",
    "def label_parser(img_path):\n",
    "    #get label from image name: e.g. dog.93.jpg\n",
    "    word_label = img_path.split('.')[0]\n",
    "    \n",
    "    \n",
    "    #One Hot the labels\n",
    "    if word_label == 'dog': \n",
    "        return [1, 0]\n",
    "    \n",
    "    elif word_label == 'cat': \n",
    "        return [0, 1]\n",
    "    \n",
    "    # Deal with exceptions but don't stop process.\n",
    "    else: \n",
    "        print('Unable to parse label for {}'.format(img_path))\n",
    "\n",
    "        \n",
    "        \n",
    "def create_train_data():\n",
    "    train_images = []\n",
    "    train_labels = []\n",
    "    \n",
    "    for img in tqdm(os.listdir(TRAIN_IMAGES_FOLDER)):\n",
    "        \n",
    "        #Label the image\n",
    "        label = label_parser(img)\n",
    "        \n",
    "        \n",
    "        path = os.path.join(TRAIN_IMAGES_FOLDER, img)\n",
    "        \n",
    "        img = cv2.imread(path)\n",
    "        \n",
    "        img = cv2.resize(img, (IMAGE_SIZE, IMAGE_SIZE))\n",
    "        \n",
    "        train_images.append(img)\n",
    "        train_labels.append(label)\n",
    "    \n",
    "    #Stack images\n",
    "    train_images = np.stack(train_images, axis = 0)\n",
    "    train_labels = np.stack(train_labels, axis = 0)    \n",
    "   \n",
    "    np.save('{}train_images-{}.npy'.format(TRAIN_ARRAYS_FOLDER, IMAGE_SIZE), train_images)\n",
    "    np.save('{}train_labels-{}.npy'.format(TRAIN_ARRAYS_FOLDER, IMAGE_SIZE), train_labels)\n",
    "    \n",
    "    return train_images, train_labels\n",
    "        \n",
    "    "
   ]
  },
  {
   "cell_type": "code",
   "execution_count": 65,
   "metadata": {},
   "outputs": [
    {
     "name": "stderr",
     "output_type": "stream",
     "text": [
      "100%|███████████████████████████████████████████████████████████████████████████| 25000/25000 [01:00<00:00, 414.81it/s]\n"
     ]
    }
   ],
   "source": [
    "train_images, train_labels = create_train_data()"
   ]
  },
  {
   "cell_type": "markdown",
   "metadata": {},
   "source": [
    "Do the same for test data. But just export to array."
   ]
  },
  {
   "cell_type": "code",
   "execution_count": 5,
   "metadata": {},
   "outputs": [],
   "source": [
    "def process_test_data():\n",
    "    test_data = []\n",
    "    \n",
    "    for img in tqdm(os.listdir(TEST_IMAGES_FOLDER)):\n",
    "        \n",
    "        path = os.path.join(TEST_IMAGES_FOLDER, img)\n",
    "        \n",
    "        img_num = img.split('.')[0]\n",
    "        \n",
    "        img = cv2.imread(path)\n",
    "        \n",
    "        img = cv2.resize(img, (IMAGE_SIZE, IMAGE_SIZE))\n",
    "        \n",
    "        test_data.append([img, img_num])\n",
    "    \n",
    "    test_data = np.stack(test_data, axis = 0)\n",
    "        \n",
    "    np.save('{}test_images-{}.npy'.format(TEST_ARRAYS_FOLDER, IMAGE_SIZE), test_data)"
   ]
  },
  {
   "cell_type": "code",
   "execution_count": 6,
   "metadata": {},
   "outputs": [
    {
     "name": "stderr",
     "output_type": "stream",
     "text": [
      "100%|███████████████████████████████████████████████████████████████████████████| 12500/12500 [00:36<00:00, 346.72it/s]\n"
     ]
    }
   ],
   "source": [
    "process_test_data()"
   ]
  },
  {
   "cell_type": "markdown",
   "metadata": {},
   "source": [
    "Split data into train/eval features/labels and shuffle the data."
   ]
  },
  {
   "cell_type": "code",
   "execution_count": 66,
   "metadata": {},
   "outputs": [],
   "source": [
    "train_X, eval_X, train_y, eval_y = train_test_split(train_images, train_labels,\n",
    "                                                    random_state = 0,\n",
    "                                                    test_size = 0.2)"
   ]
  },
  {
   "cell_type": "code",
   "execution_count": 67,
   "metadata": {},
   "outputs": [
    {
     "data": {
      "text/plain": [
       "(20000, 50, 50, 3)"
      ]
     },
     "execution_count": 67,
     "metadata": {},
     "output_type": "execute_result"
    }
   ],
   "source": [
    "train_X_.shape"
   ]
  },
  {
   "cell_type": "markdown",
   "metadata": {},
   "source": [
    "### Experimental Data Analysis"
   ]
  },
  {
   "cell_type": "markdown",
   "metadata": {},
   "source": [
    "Look at the distribution of target classes in dataset"
   ]
  },
  {
   "cell_type": "code",
   "execution_count": 53,
   "metadata": {},
   "outputs": [
    {
     "name": "stdout",
     "output_type": "stream",
     "text": [
      "Number of dogs in training set 9992, number of cats in training set 10008\n"
     ]
    }
   ],
   "source": [
    "print('Number of dogs in training set {}, number of cats in training set {}'.format(train_y[:,0].sum(), train_y[:,1].sum()))"
   ]
  },
  {
   "cell_type": "code",
   "execution_count": 54,
   "metadata": {},
   "outputs": [
    {
     "name": "stdout",
     "output_type": "stream",
     "text": [
      "Number of dogs in evaluation set 2508, number of cats in evaluation set 2492\n"
     ]
    }
   ],
   "source": [
    "print('Number of dogs in evaluation set {}, number of cats in evaluation set {}'.format(eval_y[:,0].sum(), eval_y[:,1].sum()))"
   ]
  },
  {
   "cell_type": "code",
   "execution_count": null,
   "metadata": {},
   "outputs": [],
   "source": []
  }
 ],
 "metadata": {
  "kernelspec": {
   "display_name": "Python 3",
   "language": "python",
   "name": "python3"
  },
  "language_info": {
   "codemirror_mode": {
    "name": "ipython",
    "version": 3
   },
   "file_extension": ".py",
   "mimetype": "text/x-python",
   "name": "python",
   "nbconvert_exporter": "python",
   "pygments_lexer": "ipython3",
   "version": "3.6.5"
  }
 },
 "nbformat": 4,
 "nbformat_minor": 2
}
